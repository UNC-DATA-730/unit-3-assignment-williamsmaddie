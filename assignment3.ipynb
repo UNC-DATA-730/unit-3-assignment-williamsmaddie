{
 "cells": [
  {
   "cell_type": "markdown",
   "id": "df0d234f-1e1a-4495-8208-e177e7f527aa",
   "metadata": {},
   "source": [
    "Complete the exercises below For **Assignment #3**."
   ]
  },
  {
   "cell_type": "markdown",
   "id": "d2c32b8d-1552-4d11-94d6-1813636dc383",
   "metadata": {},
   "source": [
    "## Linear model with one numerical variable"
   ]
  },
  {
   "cell_type": "markdown",
   "id": "8e4e23de-7cc0-4f48-a3e3-ff69bdc784ac",
   "metadata": {},
   "source": [
    "Execute the following cell to load the [ISLR2](https://cran.rstudio.com/web/packages/ISLR2/index.html) and [Tidverse](https://www.tidyverse.org/) packages."
   ]
  },
  {
   "cell_type": "code",
   "execution_count": null,
   "id": "55cd77a5-0ab4-46bf-bdc5-29fbb17409a1",
   "metadata": {},
   "outputs": [],
   "source": [
    "library('tidyverse')\n",
    "library('ISLR2')"
   ]
  },
  {
   "cell_type": "markdown",
   "id": "933aa6ab-37a8-4c2f-a7fc-43cbe06a726f",
   "metadata": {},
   "source": [
    "The `ISLR2` package provides a dataset called `Boston` that we will use in this assignment."
   ]
  },
  {
   "cell_type": "code",
   "execution_count": null,
   "id": "77022fb7-fdde-4064-bed8-546094c9487c",
   "metadata": {},
   "outputs": [],
   "source": [
    "Boston |> glimpse()"
   ]
  },
  {
   "cell_type": "markdown",
   "id": "77da3910-2e39-4cff-902d-e40708762c03",
   "metadata": {},
   "source": [
    "🚨 Use the **Jupyter Lab Contextual Help Feature** to see the documentation for this data. "
   ]
  },
  {
   "cell_type": "markdown",
   "id": "1e47a00c-0f16-404b-a0d3-ffc039b20a44",
   "metadata": {},
   "source": [
    "❓ **In the markdown cell below, add definitions for the `lstat` and `medv` variables in the `Boston` data.** "
   ]
  },
  {
   "cell_type": "markdown",
   "id": "726e1506-1110-4c45-8881-5d357a865241",
   "metadata": {},
   "source": [
    "- `lstat`: *WRITE DEFINITION HERE*\n",
    "- `medv`: *WRITE DEFINITION HERE*"
   ]
  },
  {
   "cell_type": "markdown",
   "id": "3c32e437-d1e4-42dc-88b6-4a03b95b7451",
   "metadata": {},
   "source": [
    "Let's plot `medv` (y-axis) versus `lstat`."
   ]
  },
  {
   "cell_type": "code",
   "execution_count": null,
   "id": "4e0395b3-c094-457a-b36a-8b10eddb8679",
   "metadata": {},
   "outputs": [],
   "source": [
    "p = ggplot(Boston, aes(x = lstat, y = medv)) + geom_point()\n",
    "\n",
    "p"
   ]
  },
  {
   "cell_type": "markdown",
   "id": "a825fd58-1943-4acd-8eb1-1630ad53f53c",
   "metadata": {},
   "source": [
    "❓Does the relationship appear to be positive or negative? Does it look to be reasonably linear?"
   ]
  },
  {
   "cell_type": "markdown",
   "id": "2aefb14b-fc45-4e14-98aa-140102a4e007",
   "metadata": {},
   "source": [
    "**Answer:**"
   ]
  },
  {
   "cell_type": "code",
   "execution_count": null,
   "id": "a3b69db6-6239-4b19-95a7-a689505834e5",
   "metadata": {},
   "outputs": [],
   "source": []
  },
  {
   "cell_type": "markdown",
   "id": "30242f77-b6d8-4db6-bf85-6fa2f8d11695",
   "metadata": {},
   "source": [
    "### Let's build a model!"
   ]
  },
  {
   "cell_type": "markdown",
   "id": "72f8fade-53fe-44da-a4a2-5fb4e153f5b6",
   "metadata": {},
   "source": [
    "We need to first load the [Tidymodels]() package."
   ]
  },
  {
   "cell_type": "code",
   "execution_count": null,
   "id": "cbcc4cc7-9953-4dfe-8522-49ed864c6991",
   "metadata": {},
   "outputs": [],
   "source": [
    "library('tidymodels')"
   ]
  },
  {
   "cell_type": "markdown",
   "id": "836a9a88-2f2d-426f-be16-dbc7b43fb368",
   "metadata": {},
   "source": [
    "First we specify our model as `linear regression` using the `lm` engine."
   ]
  },
  {
   "cell_type": "code",
   "execution_count": null,
   "id": "13df57c7-c992-486e-a232-bca73e013238",
   "metadata": {},
   "outputs": [],
   "source": [
    "mod = linear_reg() |> set_engine(\"lm\")\n",
    "\n",
    "mod"
   ]
  },
  {
   "cell_type": "markdown",
   "id": "a398157e-b012-46c9-a980-2ef708d0af28",
   "metadata": {},
   "source": [
    "Next we \"fit\" our model by supplying the `formula` and the data."
   ]
  },
  {
   "cell_type": "code",
   "execution_count": null,
   "id": "c083e3d9-384e-4cc7-b79b-6692cfb8aa5a",
   "metadata": {},
   "outputs": [],
   "source": [
    "mod_fit = mod |> fit(medv ~ lstat, data = Boston)\n",
    "\n",
    "mod_fit"
   ]
  },
  {
   "cell_type": "markdown",
   "id": "ad3aef72-b9d7-440f-8765-e73892de0af1",
   "metadata": {},
   "source": [
    "### Get the regression table"
   ]
  },
  {
   "cell_type": "code",
   "execution_count": null,
   "id": "5b28d962-56dd-42d6-ba4c-8b688c639442",
   "metadata": {},
   "outputs": [],
   "source": [
    "# We can use the tidy function to get a table of our model information\n",
    "tidy(mod_fit)"
   ]
  },
  {
   "cell_type": "markdown",
   "id": "7354073f-14ca-4ae9-a96f-0a0e13ff98da",
   "metadata": {},
   "source": [
    "❓Comparing on the chart above and the regression table, does the **sign** of the `estimate` for the `lstat` term coefficient fit your expectations?"
   ]
  },
  {
   "cell_type": "markdown",
   "id": "f0a0f5e8-b697-4a67-9df9-386d01061b08",
   "metadata": {},
   "source": [
    "**Answer:**"
   ]
  },
  {
   "cell_type": "code",
   "execution_count": null,
   "id": "bae5e1cc-bd32-475c-8367-07437063f4ee",
   "metadata": {},
   "outputs": [],
   "source": []
  },
  {
   "cell_type": "markdown",
   "id": "ade6a556-7c83-4b9b-b334-df5dbf69d43d",
   "metadata": {},
   "source": [
    "### Making predictions and visualizing the model"
   ]
  },
  {
   "cell_type": "markdown",
   "id": "a3c72fd6-72c0-4692-b9f0-cf0ff28a336b",
   "metadata": {},
   "source": [
    "We can use the `augment` function to \"predict\" `medv` for all the values in our original dataset. We will capture these predictions in a new data frame called `Boston2`. The predicted values are found in the `.pred` column."
   ]
  },
  {
   "cell_type": "code",
   "execution_count": null,
   "id": "ffadcfb8-2fbb-44df-92e5-756657df3ba7",
   "metadata": {},
   "outputs": [],
   "source": [
    "Boston2 = augment(mod_fit, Boston)\n",
    "\n",
    "glimpse(Boston2)"
   ]
  },
  {
   "cell_type": "markdown",
   "id": "307c8da7-3da5-4715-88ff-01b72bdf08a3",
   "metadata": {},
   "source": [
    "Let's visualize our model."
   ]
  },
  {
   "cell_type": "code",
   "execution_count": null,
   "id": "a5212e66-d298-4c0e-b0d1-0ca7e7b7f011",
   "metadata": {},
   "outputs": [],
   "source": [
    "p = ggplot(Boston2, aes(x = lstat)) +\n",
    "    geom_point(aes(y = medv)) + \n",
    "    geom_line(aes(y = .pred), color = 'coral', linewidth = 1.5)\n",
    "\n",
    "p"
   ]
  },
  {
   "cell_type": "markdown",
   "id": "f5f267da-4170-4ad4-a6cf-4c921e9832b3",
   "metadata": {},
   "source": [
    "### Put your skills to practice independently!"
   ]
  },
  {
   "cell_type": "markdown",
   "id": "c0a2301a-7b1e-48cb-9374-917ab70afa27",
   "metadata": {},
   "source": [
    "In cells below, build a model of `medv` with the `rm` variable as a predictor.\n",
    "\n",
    "**Include the following:**\n",
    "- Show a regression table of your model parameters.\n",
    "- Visualize the model with `ggplot2`."
   ]
  },
  {
   "cell_type": "code",
   "execution_count": null,
   "id": "974ba136-dfac-4736-9f0a-9b0222eced93",
   "metadata": {},
   "outputs": [],
   "source": [
    "\n",
    "\n",
    "\n",
    "\n",
    "\n"
   ]
  },
  {
   "cell_type": "markdown",
   "id": "2fe3d9d8-649d-453c-9608-a64bc756cb55",
   "metadata": {},
   "source": [
    "❓Does your model indicate a positive relationship beteen number of rooms and home value? "
   ]
  },
  {
   "cell_type": "markdown",
   "id": "666e9cd6-0e67-4877-ae61-bae742b5f07a",
   "metadata": {},
   "source": [
    "**Answer:**"
   ]
  },
  {
   "cell_type": "code",
   "execution_count": null,
   "id": "01e71cb3-0fb9-4260-9295-e5aa3b0dee6d",
   "metadata": {},
   "outputs": [],
   "source": []
  },
  {
   "cell_type": "markdown",
   "id": "4cbb94ca-1eca-434c-966c-9da85a32b944",
   "metadata": {},
   "source": [
    "## Linear model with one categorical variable"
   ]
  },
  {
   "cell_type": "markdown",
   "id": "e76daf85-704c-4d99-8d21-2cdd9c837748",
   "metadata": {},
   "source": [
    "We will use the `Carseats` data from the `ISLR2` package for the following exercise."
   ]
  },
  {
   "cell_type": "code",
   "execution_count": null,
   "id": "640d6014-0267-4953-a267-24486d5a83be",
   "metadata": {},
   "outputs": [],
   "source": [
    "Carseats |> glimpse()"
   ]
  },
  {
   "cell_type": "markdown",
   "id": "3d8ac0b5-05dd-4eb4-aabd-191fe74a9c9b",
   "metadata": {},
   "source": [
    "Below is a plot of `sales` versus `ShelveLoc`."
   ]
  },
  {
   "cell_type": "code",
   "execution_count": null,
   "id": "8405e215-e7ea-4a3f-b57f-8c33ceb7845f",
   "metadata": {},
   "outputs": [],
   "source": [
    "p = ggplot(Carseats, aes(x = ShelveLoc, y = Sales)) + \n",
    "    geom_point(position = position_jitter(width = 0.3, height = 0))\n",
    "\n",
    "p"
   ]
  },
  {
   "cell_type": "markdown",
   "id": "5b7bd37c-619e-4981-a362-68f901bbddf9",
   "metadata": {},
   "source": [
    "❓Does it look like a \"Good\" shelf location is associated with more car seat sales?"
   ]
  },
  {
   "cell_type": "markdown",
   "id": "5fdb9cd0-2266-40f8-8fbe-846bfcbd803f",
   "metadata": {},
   "source": [
    "**Answer:**"
   ]
  },
  {
   "cell_type": "code",
   "execution_count": null,
   "id": "3ddaa54a-33ad-4c04-b760-bc6996a2d5cd",
   "metadata": {},
   "outputs": [],
   "source": []
  },
  {
   "cell_type": "markdown",
   "id": "9c64d341-9574-4e80-93f2-2971d3986cb5",
   "metadata": {},
   "source": [
    "In cells below, using the `Carseats` data build a model of `Sales` with the `ShelveLoc` variable as a predictor.\n",
    "\n",
    "**Include the following:**\n",
    "- Show a regression table of your model parameters.\n",
    "- Visualize the model with `ggplot2`."
   ]
  },
  {
   "cell_type": "markdown",
   "id": "002b08f0-7408-46f9-8e0d-410469e9de47",
   "metadata": {},
   "source": [
    "📊 *Here is some example code for plotting your model.*"
   ]
  },
  {
   "cell_type": "markdown",
   "id": "17e01659-b665-48b3-b302-258a2234d032",
   "metadata": {},
   "source": [
    "```r\n",
    "# The code below assumes your predictions column is called \".pred\" and is in a\n",
    "# data frame called \"Carseats2\"\n",
    "\n",
    "ggplot(Carseats2, aes(x = ShelveLoc)) + \n",
    "    geom_point(aes(y = Sales), \n",
    "               na.rm = T, position = position_jitter(height = 0, width = 0.2, seed = 42)) +\n",
    "    geom_crossbar(aes(y = .pred, ymin = .pred, ymax = .pred), \n",
    "                  color = 'coral')\n",
    "```"
   ]
  },
  {
   "cell_type": "code",
   "execution_count": null,
   "id": "3b93f124-33da-489e-a8d3-95ff93fa70ae",
   "metadata": {},
   "outputs": [],
   "source": [
    "\n",
    "\n",
    "\n",
    "\n",
    "\n"
   ]
  },
  {
   "cell_type": "markdown",
   "id": "ee0c9e83-50c6-404d-897c-ed74b2824070",
   "metadata": {},
   "source": [
    "Which `ShelveLoc` category does your intercept term represent? "
   ]
  },
  {
   "cell_type": "markdown",
   "id": "8f0c8f32-cb43-40d4-9c50-10cc840fe117",
   "metadata": {},
   "source": [
    "**Answer:**"
   ]
  },
  {
   "cell_type": "code",
   "execution_count": null,
   "id": "7b929948-8917-49fa-99e0-d77e31f8a139",
   "metadata": {},
   "outputs": [],
   "source": []
  }
 ],
 "metadata": {
  "kernelspec": {
   "display_name": "R",
   "language": "R",
   "name": "ir"
  },
  "language_info": {
   "codemirror_mode": "r",
   "file_extension": ".r",
   "mimetype": "text/x-r-source",
   "name": "R",
   "pygments_lexer": "r",
   "version": "4.3.2"
  }
 },
 "nbformat": 4,
 "nbformat_minor": 5
}
